{
 "cells": [
  {
   "cell_type": "markdown",
   "id": "3ab7da26-9840-470e-806c-59fc053373c6",
   "metadata": {},
   "source": [
    "# STRING METHODS IN PYTHON"
   ]
  },
  {
   "cell_type": "markdown",
   "id": "a3aaafa3-67d4-4e27-a2fe-5416f6536183",
   "metadata": {},
   "source": [
    "## (1) capitalise"
   ]
  },
  {
   "cell_type": "code",
   "execution_count": 2,
   "id": "af2c2de3-3500-4bfa-ac51-c1fa89a7d172",
   "metadata": {},
   "outputs": [
    {
     "name": "stdout",
     "output_type": "stream",
     "text": [
      "India is a part of asia.\n"
     ]
    }
   ],
   "source": [
    "str1 = \"india is a part of asia.\"\n",
    "str2 = str1.capitalize()\n",
    "print(str2)"
   ]
  },
  {
   "cell_type": "code",
   "execution_count": null,
   "id": "9419a8fc-fb98-43fd-9f75-b35b26168989",
   "metadata": {},
   "outputs": [],
   "source": []
  },
  {
   "cell_type": "markdown",
   "id": "b9457f1f-cbb7-430d-9277-57a3a5694c05",
   "metadata": {},
   "source": [
    "## (2) casefold"
   ]
  },
  {
   "cell_type": "code",
   "execution_count": 4,
   "id": "b0eedd41-f741-4128-8c59-4ece8db4d7a3",
   "metadata": {},
   "outputs": [
    {
     "name": "stdout",
     "output_type": "stream",
     "text": [
      "let's see if this works.\n"
     ]
    }
   ],
   "source": [
    "sentence1 = \"Let's SEE iF This wOrks.\"\n",
    "sentence2 = sentence1.casefold()\n",
    "print(sentence2)"
   ]
  },
  {
   "cell_type": "code",
   "execution_count": null,
   "id": "55bcc8a1-f89d-45e1-9133-bcfcb2522114",
   "metadata": {},
   "outputs": [],
   "source": []
  },
  {
   "cell_type": "markdown",
   "id": "5e431e46-f46e-46f5-85d0-656ba6cc8baf",
   "metadata": {},
   "source": [
    "## (3) center"
   ]
  },
  {
   "cell_type": "code",
   "execution_count": 16,
   "id": "70b8a574-b7c5-45d3-8f8f-a2602c5d81ee",
   "metadata": {},
   "outputs": [
    {
     "name": "stdout",
     "output_type": "stream",
     "text": [
      "-------WASHINGTON-------\n"
     ]
    }
   ],
   "source": [
    "S1 = 'WASHINGTON'\n",
    "S2 = S1.center(24,\"-\")\n",
    "print(S2)"
   ]
  },
  {
   "cell_type": "code",
   "execution_count": null,
   "id": "6dfa8752-bee3-4e81-9499-d983227a368b",
   "metadata": {},
   "outputs": [],
   "source": []
  },
  {
   "cell_type": "markdown",
   "id": "52b0da4c-4ffb-422b-9093-039f3f60bc60",
   "metadata": {},
   "source": [
    "## (4) count"
   ]
  },
  {
   "cell_type": "code",
   "execution_count": 13,
   "id": "1e979c8c-3b5d-4fed-b566-ba33aee9909c",
   "metadata": {},
   "outputs": [
    {
     "name": "stdout",
     "output_type": "stream",
     "text": [
      "3\n"
     ]
    }
   ],
   "source": [
    "A1 = \"Why this Kolaveri Kolaveri Kolaveri Di!\"\n",
    "A2 = A1.count(\"Kolaveri\")\n",
    "print(A2)"
   ]
  },
  {
   "cell_type": "code",
   "execution_count": null,
   "id": "8af37b99-953e-4de9-84a8-2475c2394c3c",
   "metadata": {},
   "outputs": [],
   "source": []
  },
  {
   "cell_type": "markdown",
   "id": "486d0b73-8466-4d33-a8d8-9f5d63648084",
   "metadata": {},
   "source": [
    "## (5) encode"
   ]
  },
  {
   "cell_type": "code",
   "execution_count": 18,
   "id": "ebe2f610-602c-41a8-81fd-69195fc3ae9d",
   "metadata": {},
   "outputs": [
    {
     "name": "stdout",
     "output_type": "stream",
     "text": [
      "b'Avoid refined oils.'\n"
     ]
    }
   ],
   "source": [
    "B1 = \"Avoid refined oils.\"\n",
    "B2 = B1.encode()\n",
    "print(B2)"
   ]
  },
  {
   "cell_type": "code",
   "execution_count": null,
   "id": "bf01b876-ce2b-40d6-80f0-48855cb9c63a",
   "metadata": {},
   "outputs": [],
   "source": []
  },
  {
   "cell_type": "markdown",
   "id": "3b78e32d-d00d-4ebe-a45d-c53d6f0e4349",
   "metadata": {},
   "source": [
    "## (6) endswith"
   ]
  },
  {
   "cell_type": "code",
   "execution_count": 24,
   "id": "c1b49fea-7ce2-482d-806f-86c92e01f944",
   "metadata": {},
   "outputs": [
    {
     "name": "stdout",
     "output_type": "stream",
     "text": [
      "True\n"
     ]
    }
   ],
   "source": [
    "C1 = \"This is first task of Python!\"\n",
    "C2 = C1.endswith(\"!\")\n",
    "print(C2)"
   ]
  },
  {
   "cell_type": "code",
   "execution_count": null,
   "id": "df8ba980-8682-4abc-8f6e-08244d354fc7",
   "metadata": {},
   "outputs": [],
   "source": []
  },
  {
   "cell_type": "markdown",
   "id": "e810b4cd-e99e-4b0b-b10a-4cd6d5378d25",
   "metadata": {},
   "source": [
    "## (7) expandtabs"
   ]
  },
  {
   "cell_type": "code",
   "execution_count": 35,
   "id": "f9a3895e-98df-444f-ae4a-d107df18c2fc",
   "metadata": {},
   "outputs": [
    {
     "name": "stdout",
     "output_type": "stream",
     "text": [
      "Ra/aav/aen/acl/aow\n"
     ]
    }
   ],
   "source": [
    "txt = \"Ra/aav/aen/acl/aow\"\n",
    "x =  txt.expandtabs(4)\n",
    "print(x)"
   ]
  },
  {
   "cell_type": "code",
   "execution_count": null,
   "id": "e24a6cad-40e7-4a7c-8334-b9d78d07726b",
   "metadata": {},
   "outputs": [],
   "source": []
  },
  {
   "cell_type": "markdown",
   "id": "9d53e3fe-9901-4994-81a2-dbceeb67aa56",
   "metadata": {},
   "source": [
    "## (8) find"
   ]
  },
  {
   "cell_type": "code",
   "execution_count": 1,
   "id": "bea0bd9d-9786-487a-a075-444e6fbf4633",
   "metadata": {},
   "outputs": [
    {
     "name": "stdout",
     "output_type": "stream",
     "text": [
      "Find the position in this string\n",
      "21\n"
     ]
    }
   ],
   "source": [
    "D1 = 'Find the position in this string'\n",
    "\n",
    "print(D1)\n",
    "\n",
    "print(f'{D1}'.find('this'))"
   ]
  },
  {
   "cell_type": "code",
   "execution_count": null,
   "id": "44eeb422-9704-4c4b-972f-58b9d0e66531",
   "metadata": {},
   "outputs": [],
   "source": []
  },
  {
   "cell_type": "markdown",
   "id": "2534fa1c-5c34-4198-a8c7-d2ea789a2458",
   "metadata": {},
   "source": [
    "## (9) format"
   ]
  },
  {
   "cell_type": "code",
   "execution_count": 10,
   "id": "4c92a7c0-c59e-435c-be2a-1c3ee4ed8546",
   "metadata": {},
   "outputs": [
    {
     "name": "stdout",
     "output_type": "stream",
     "text": [
      "Interest rate {rate:.3f}%\n",
      "Interest rate 20.000%\n"
     ]
    }
   ],
   "source": [
    "E1 = 'Interest rate {rate:.3f}%'\n",
    "print(E1)\n",
    "\n",
    "print(f'{E1}'.format(rate = 20))"
   ]
  },
  {
   "cell_type": "code",
   "execution_count": null,
   "id": "b53ddd8d-493d-4ca9-9312-ea9d2a9c160f",
   "metadata": {},
   "outputs": [],
   "source": []
  },
  {
   "cell_type": "markdown",
   "id": "3fbdf822-82ae-4fee-97ef-7724ab593bfb",
   "metadata": {},
   "source": [
    "## (10) index"
   ]
  },
  {
   "cell_type": "code",
   "execution_count": 12,
   "id": "5e53d6cd-ee8b-4a37-b81a-c9c077a882dd",
   "metadata": {},
   "outputs": [
    {
     "name": "stdout",
     "output_type": "stream",
     "text": [
      "Indexing can be found out with this method.\n",
      "22\n"
     ]
    }
   ],
   "source": [
    "F1= 'Indexing can be found out with this method.'\n",
    "\n",
    "print(F1)\n",
    "print(f'{F1}'.index('out'))\n"
   ]
  },
  {
   "cell_type": "code",
   "execution_count": null,
   "id": "044059e8-15ce-4e09-a7a4-9f891aa4dcf6",
   "metadata": {},
   "outputs": [],
   "source": []
  },
  {
   "cell_type": "markdown",
   "id": "cc2cca58-fb6a-42eb-85d3-39afac6fde5e",
   "metadata": {},
   "source": [
    "## (11) isalnum"
   ]
  },
  {
   "cell_type": "code",
   "execution_count": 13,
   "id": "c833c7d6-3993-48f9-908b-1d76a3216641",
   "metadata": {},
   "outputs": [
    {
     "name": "stdout",
     "output_type": "stream",
     "text": [
      "MH31\n",
      "True\n"
     ]
    }
   ],
   "source": [
    "G1 = 'MH31'\n",
    "print(G1)\n",
    "\n",
    "print(f'{G1}'.isalnum())"
   ]
  },
  {
   "cell_type": "code",
   "execution_count": 16,
   "id": "51817dc1-493d-4fb3-9149-ad59981d3833",
   "metadata": {},
   "outputs": [
    {
     "name": "stdout",
     "output_type": "stream",
     "text": [
      "Nagpur City\n",
      "False\n"
     ]
    }
   ],
   "source": [
    "G2 =  'Nagpur City'\n",
    "print(G2)\n",
    "\n",
    "print(f'{G2}'.isalnum())"
   ]
  },
  {
   "cell_type": "code",
   "execution_count": null,
   "id": "6fec0649-704b-4651-bc1e-45e39802dbd0",
   "metadata": {},
   "outputs": [],
   "source": []
  },
  {
   "cell_type": "markdown",
   "id": "b4a3db9d-b481-441e-9583-bbd1d33d2e34",
   "metadata": {},
   "source": [
    "## (12) isalpha"
   ]
  },
  {
   "cell_type": "code",
   "execution_count": 18,
   "id": "81ee2947-b24f-4186-a835-9d8e87215f0b",
   "metadata": {},
   "outputs": [
    {
     "name": "stdout",
     "output_type": "stream",
     "text": [
      "MH31AB1234\n",
      "False\n"
     ]
    }
   ],
   "source": [
    "H1 = 'MH31AB1234'\n",
    "\n",
    "print(H1)\n",
    "print(f'{H1}'.isalpha())\n"
   ]
  },
  {
   "cell_type": "code",
   "execution_count": 20,
   "id": "453bc74d-c277-487e-b8ed-2e88921707b0",
   "metadata": {},
   "outputs": [
    {
     "name": "stdout",
     "output_type": "stream",
     "text": [
      "ALLISWELL\n",
      "True\n"
     ]
    }
   ],
   "source": [
    "H2 = 'ALLISWELL'\n",
    "\n",
    "print(H2)\n",
    "print(f'{H2}'.isalpha())\n"
   ]
  },
  {
   "cell_type": "code",
   "execution_count": null,
   "id": "1e80d088-8f4f-40b8-8a51-59c896cc3ef9",
   "metadata": {},
   "outputs": [],
   "source": []
  },
  {
   "cell_type": "markdown",
   "id": "a294e0c4-0ecd-4ddb-b5d5-8625a8191f7a",
   "metadata": {},
   "source": [
    "## (13) isdecimal"
   ]
  },
  {
   "cell_type": "code",
   "execution_count": 23,
   "id": "9fe4933c-1828-4557-b737-2b16c3835c87",
   "metadata": {},
   "outputs": [
    {
     "name": "stdout",
     "output_type": "stream",
     "text": [
      "True\n"
     ]
    }
   ],
   "source": [
    "I1 = \"741258963\"\n",
    "\n",
    "I2 = I1.isdecimal()\n",
    "\n",
    "print(I2)"
   ]
  },
  {
   "cell_type": "code",
   "execution_count": null,
   "id": "468f8117-fb5d-4c4e-89ef-2fe63c30ee21",
   "metadata": {},
   "outputs": [],
   "source": []
  },
  {
   "cell_type": "markdown",
   "id": "e2d90944-9072-44b1-bf36-3d40e4528eb0",
   "metadata": {},
   "source": [
    "## (14) isdigit"
   ]
  },
  {
   "cell_type": "code",
   "execution_count": 24,
   "id": "1f925518-19d9-4306-802f-da41037e40d1",
   "metadata": {},
   "outputs": [
    {
     "name": "stdout",
     "output_type": "stream",
     "text": [
      "True\n"
     ]
    }
   ],
   "source": [
    "J1 = \"564646546\"\n",
    "\n",
    "J2 = J1.isdigit()\n",
    "\n",
    "print(J2)"
   ]
  },
  {
   "cell_type": "code",
   "execution_count": null,
   "id": "c411a3df-f7fe-49eb-a49f-47a867f39e10",
   "metadata": {},
   "outputs": [],
   "source": []
  },
  {
   "cell_type": "markdown",
   "id": "b95dd33f-ff88-4a4f-aee5-c7af985efcd1",
   "metadata": {},
   "source": [
    "## (15) isidentifier"
   ]
  },
  {
   "cell_type": "code",
   "execution_count": 26,
   "id": "d40ed872-b96e-4dc9-bbe3-8ee396d2e158",
   "metadata": {},
   "outputs": [
    {
     "name": "stdout",
     "output_type": "stream",
     "text": [
      "True\n",
      "False\n",
      "False\n",
      "True\n"
     ]
    }
   ],
   "source": [
    "a = \"JavaScript\"\n",
    "b = \"JamesBond 007\"\n",
    "c = \"777Charlie\"\n",
    "d = \"Wings_of_Fire\"\n",
    "\n",
    "print(a.isidentifier())\n",
    "print(b.isidentifier())\n",
    "print(c.isidentifier())\n",
    "print(d.isidentifier())"
   ]
  },
  {
   "cell_type": "code",
   "execution_count": null,
   "id": "77ee89c8-ca0f-4dd6-8da5-fd6635454c9e",
   "metadata": {},
   "outputs": [],
   "source": []
  },
  {
   "cell_type": "markdown",
   "id": "f3938a67-1f3d-4f69-b9ea-4287f856044f",
   "metadata": {},
   "source": [
    "## (16) islower"
   ]
  },
  {
   "cell_type": "code",
   "execution_count": 28,
   "id": "36205622-b0fc-4f35-9590-0913c45ffd9c",
   "metadata": {},
   "outputs": [
    {
     "name": "stdout",
     "output_type": "stream",
     "text": [
      "False\n"
     ]
    }
   ],
   "source": [
    "K1 = \"hello boy,I am Robot!\"\n",
    "\n",
    "K2 = K1.islower()\n",
    "\n",
    "print(K2)"
   ]
  },
  {
   "cell_type": "code",
   "execution_count": 30,
   "id": "a9f4e71b-a23c-46f1-9044-705e165d4519",
   "metadata": {},
   "outputs": [
    {
     "name": "stdout",
     "output_type": "stream",
     "text": [
      "True\n"
     ]
    }
   ],
   "source": [
    "K3 = \"well, all of this is in lower case!\"\n",
    "\n",
    "K4 = K3.islower()\n",
    "\n",
    "print(K4)"
   ]
  },
  {
   "cell_type": "code",
   "execution_count": null,
   "id": "60c42841-8173-4e3c-8e06-91457ba25754",
   "metadata": {},
   "outputs": [],
   "source": []
  },
  {
   "cell_type": "markdown",
   "id": "a24b8447-4a11-4536-b3a8-788dd06ba08d",
   "metadata": {},
   "source": [
    "## (17) isnumeric"
   ]
  },
  {
   "cell_type": "code",
   "execution_count": 32,
   "id": "b9c4ed31-ba77-4a3d-a54b-8412c5e2d205",
   "metadata": {},
   "outputs": [
    {
     "name": "stdout",
     "output_type": "stream",
     "text": [
      "True\n",
      "False\n",
      "False\n"
     ]
    }
   ],
   "source": [
    "a1 = \"10101010\"\n",
    "b1 = \"-49\"\n",
    "c1 = \"22.5\"\n",
    "\n",
    "print(a1.isnumeric())\n",
    "print(b1.isnumeric())\n",
    "print(c1.isnumeric())"
   ]
  },
  {
   "cell_type": "code",
   "execution_count": null,
   "id": "ec5667c7-9003-48a5-a745-b7a5483bcca1",
   "metadata": {},
   "outputs": [],
   "source": []
  },
  {
   "cell_type": "markdown",
   "id": "83701da5-c398-41bc-a125-a8f553d27793",
   "metadata": {},
   "source": [
    "## (18) isprintable"
   ]
  },
  {
   "cell_type": "code",
   "execution_count": 33,
   "id": "86aa843a-9036-413d-9c81-5555665449d5",
   "metadata": {},
   "outputs": [
    {
     "name": "stdout",
     "output_type": "stream",
     "text": [
      "True\n"
     ]
    }
   ],
   "source": [
    "printable1 = \"Whether this is printable?\"\n",
    "\n",
    "printable2 = printable1.isprintable()\n",
    "\n",
    "print(printable2)\n"
   ]
  },
  {
   "cell_type": "code",
   "execution_count": 35,
   "id": "a8c8d577-e78f-49e9-aa3b-9eb53241b562",
   "metadata": {},
   "outputs": [
    {
     "name": "stdout",
     "output_type": "stream",
     "text": [
      "False\n"
     ]
    }
   ],
   "source": [
    "printable3 = \"Whejbfefwekdbjdbk/hgh\\fefefefe?\"\n",
    "\n",
    "printable4 = printable3.isprintable()\n",
    "\n",
    "print(printable4)\n"
   ]
  },
  {
   "cell_type": "code",
   "execution_count": null,
   "id": "bfd09def-2b04-4615-b451-4368d1be132a",
   "metadata": {},
   "outputs": [],
   "source": []
  },
  {
   "cell_type": "markdown",
   "id": "33c58d45-0c4f-4a0e-900c-981dc8a2a669",
   "metadata": {},
   "source": [
    "## (19)isspace"
   ]
  },
  {
   "cell_type": "code",
   "execution_count": 37,
   "id": "f6fca57a-8ded-4cf6-bda9-8d9414a492c1",
   "metadata": {},
   "outputs": [
    {
     "name": "stdout",
     "output_type": "stream",
     "text": [
      "True\n"
     ]
    }
   ],
   "source": [
    "sp1 = \"   \"\n",
    "\n",
    "sp2= sp1.isspace()\n",
    "\n",
    "print(sp2)"
   ]
  },
  {
   "cell_type": "code",
   "execution_count": 38,
   "id": "1c6892d4-b761-4d64-a70d-e08e8ecbc2c5",
   "metadata": {},
   "outputs": [
    {
     "name": "stdout",
     "output_type": "stream",
     "text": [
      "False\n"
     ]
    }
   ],
   "source": [
    "txt = \" Hiroshima  \"\n",
    "\n",
    "x = txt.isspace()\n",
    "\n",
    "print(x)"
   ]
  },
  {
   "cell_type": "code",
   "execution_count": null,
   "id": "67d4fce3-f18d-40b9-ad39-a4819efc4306",
   "metadata": {},
   "outputs": [],
   "source": []
  },
  {
   "cell_type": "markdown",
   "id": "07bacea0-aca9-4e86-b99b-2d2633ad6e93",
   "metadata": {},
   "source": [
    "## (20)istitle"
   ]
  },
  {
   "cell_type": "code",
   "execution_count": 46,
   "id": "4710de16-1852-4304-9aa0-ad5eec90fb82",
   "metadata": {},
   "outputs": [
    {
     "name": "stdout",
     "output_type": "stream",
     "text": [
      "False\n",
      "True\n",
      "False\n",
      "True\n",
      "False\n",
      "True\n"
     ]
    }
   ],
   "source": [
    "a2 = \"ALL CAPS HERE\"\n",
    "b2 = \"Unagi Friends\"\n",
    "c2 = \"36 Chamber of Secrets\"\n",
    "d2 = \"Right To %'!?\"\n",
    "e2 = \"lower\"\n",
    "f2 = \"Upper\"\n",
    "\n",
    "print(a2.istitle())\n",
    "print(b2.istitle())\n",
    "print(c2.istitle())\n",
    "print(d2.istitle())\n",
    "print(e2.istitle())\n",
    "print(f2.istitle())"
   ]
  },
  {
   "cell_type": "code",
   "execution_count": null,
   "id": "f68371fc-93f8-4bcb-bdb7-5599c1ee99cb",
   "metadata": {},
   "outputs": [],
   "source": []
  },
  {
   "cell_type": "markdown",
   "id": "da85c925-91c1-449c-909f-faeee4559908",
   "metadata": {},
   "source": [
    "## (21) replace"
   ]
  },
  {
   "cell_type": "code",
   "execution_count": 1,
   "id": "91499cee-0c27-4004-835e-81b255f6a0b7",
   "metadata": {},
   "outputs": [
    {
     "name": "stdout",
     "output_type": "stream",
     "text": [
      "I like apples\n"
     ]
    }
   ],
   "source": [
    "txt = \"I like bananas\"\n",
    "\n",
    "x = txt.replace(\"bananas\", \"apples\")\n",
    "\n",
    "print(x)\n"
   ]
  },
  {
   "cell_type": "code",
   "execution_count": 2,
   "id": "d8ff620e-9696-4881-bbef-dc12b777c4fc",
   "metadata": {},
   "outputs": [
    {
     "data": {
      "text/plain": [
       "'I like bananas'"
      ]
     },
     "execution_count": 2,
     "metadata": {},
     "output_type": "execute_result"
    }
   ],
   "source": [
    "txt"
   ]
  },
  {
   "cell_type": "code",
   "execution_count": null,
   "id": "b4b531e9-fa2e-41f0-b5fd-3abd54acbe6e",
   "metadata": {},
   "outputs": [],
   "source": []
  },
  {
   "cell_type": "markdown",
   "id": "6ccf3d86-4bf0-4827-9334-4602cade4136",
   "metadata": {},
   "source": [
    "## (22) isupper"
   ]
  },
  {
   "cell_type": "code",
   "execution_count": 3,
   "id": "11e0f27c-e206-42fa-b578-b9a3e6034d1e",
   "metadata": {},
   "outputs": [
    {
     "name": "stdout",
     "output_type": "stream",
     "text": [
      "False\n",
      "False\n",
      "True\n"
     ]
    }
   ],
   "source": [
    "a3 = \"Data Analytics\"\n",
    "b3 = \"gurudeo nagar\"\n",
    "c3 = \"ARC TECHNOLOGIES\"\n",
    "\n",
    "print(a3.isupper())\n",
    "print(b3.isupper())\n",
    "print(c3.isupper())"
   ]
  },
  {
   "cell_type": "code",
   "execution_count": null,
   "id": "9d20bff5-c1be-4c8e-90ac-d76885d1b055",
   "metadata": {},
   "outputs": [],
   "source": []
  },
  {
   "cell_type": "markdown",
   "id": "c5c3409a-1f2b-4a09-b75a-2558130b5dd1",
   "metadata": {},
   "source": [
    "## (23) join"
   ]
  },
  {
   "cell_type": "code",
   "execution_count": 4,
   "id": "3454da24-ea55-412e-a3af-bb9a622419d2",
   "metadata": {},
   "outputs": [
    {
     "name": "stdout",
     "output_type": "stream",
     "text": [
      "Amar,Akbar,Anthony\n"
     ]
    }
   ],
   "source": [
    "myTuple1 = (\"Amar\", \"Akbar\", \"Anthony\")\n",
    "\n",
    "output = \",\".join(myTuple1)\n",
    "\n",
    "print(output)"
   ]
  },
  {
   "cell_type": "code",
   "execution_count": null,
   "id": "41d96213-e62b-40b7-b72f-f48231ba7af2",
   "metadata": {},
   "outputs": [],
   "source": []
  },
  {
   "cell_type": "markdown",
   "id": "757cbe1a-a6b5-4e62-bc28-06ebb8e730b6",
   "metadata": {},
   "source": [
    "## (24) ljust"
   ]
  },
  {
   "cell_type": "code",
   "execution_count": 10,
   "id": "b4e28e71-0cf2-43ff-a8e7-8d1026afe03c",
   "metadata": {},
   "outputs": [
    {
     "name": "stdout",
     "output_type": "stream",
     "text": [
      "LEFT                 alignment of the string can be seen with this method.\n"
     ]
    }
   ],
   "source": [
    "string1 = \"LEFT\"\n",
    "\n",
    "output1 = string1.ljust(20)\n",
    "\n",
    "print(output1, \"alignment of the string can be seen with this method.\")"
   ]
  },
  {
   "cell_type": "code",
   "execution_count": null,
   "id": "fa71a328-d60d-4f42-b6fc-9f29c73615a1",
   "metadata": {},
   "outputs": [],
   "source": []
  },
  {
   "cell_type": "markdown",
   "id": "74537baf-fd25-468e-87b1-ba9b62fdd430",
   "metadata": {},
   "source": [
    "## (25) lower"
   ]
  },
  {
   "cell_type": "code",
   "execution_count": 11,
   "id": "aba41a65-0724-46eb-bca8-1ac455d0475c",
   "metadata": {},
   "outputs": [
    {
     "name": "stdout",
     "output_type": "stream",
     "text": [
      "delhi is the capital of india.\n"
     ]
    }
   ],
   "source": [
    "sentence = \"Delhi is the CAPITAL of India.\"\n",
    "\n",
    "lower_case = sentence.lower()\n",
    "\n",
    "print(lower_case)"
   ]
  },
  {
   "cell_type": "code",
   "execution_count": null,
   "id": "f2336ab2-8756-4919-80d8-afb369d5057f",
   "metadata": {},
   "outputs": [],
   "source": []
  },
  {
   "cell_type": "markdown",
   "id": "ddbbf814-ef96-43b3-ac74-cd6b752a4709",
   "metadata": {},
   "source": [
    "## (26) lstrip"
   ]
  },
  {
   "cell_type": "code",
   "execution_count": 25,
   "id": "aa7aaabb-00c3-473b-994b-973f526dab6d",
   "metadata": {},
   "outputs": [
    {
     "name": "stdout",
     "output_type": "stream",
     "text": [
      ".....LSTRIP....\n"
     ]
    }
   ],
   "source": [
    "text1 = \",,,,,////.....LSTRIP....\"\n",
    "\n",
    "newtext1 = text1.lstrip(\"/,\")\n",
    "\n",
    "print(newtext1)"
   ]
  },
  {
   "cell_type": "code",
   "execution_count": null,
   "id": "e4fea37f-f2a6-432c-8995-af8e1c80e946",
   "metadata": {},
   "outputs": [],
   "source": []
  },
  {
   "cell_type": "code",
   "execution_count": 26,
   "id": "616123ac-1a7d-404c-a905-2346d37f51eb",
   "metadata": {},
   "outputs": [
    {
     "name": "stdout",
     "output_type": "stream",
     "text": [
      "////Lstrip///\n"
     ]
    }
   ],
   "source": [
    "text2 = \",,,,,////Lstrip///\"\n",
    "\n",
    "newtext2 = text2.lstrip(\",,\")\n",
    "\n",
    "print(newtext2)"
   ]
  },
  {
   "cell_type": "code",
   "execution_count": null,
   "id": "833b5779-e552-45f6-9326-acdf2be5d490",
   "metadata": {},
   "outputs": [],
   "source": []
  },
  {
   "cell_type": "markdown",
   "id": "f7d29737-cb85-4d2e-9ceb-e0522a110f53",
   "metadata": {},
   "source": [
    "## (27) maketrans"
   ]
  },
  {
   "cell_type": "code",
   "execution_count": 33,
   "id": "7237d6e8-af90-4717-a025-033a6982db23",
   "metadata": {},
   "outputs": [
    {
     "name": "stdout",
     "output_type": "stream",
     "text": [
      "This is a cat.\n",
      "This is a bat.\n"
     ]
    }
   ],
   "source": [
    "sentence1 = \"This is a cat.\"\n",
    "print(sentence1)\n",
    "\n",
    "outputNew = str.maketrans(\"c\", \"b\")\n",
    "\n",
    "print(sentence1.translate(outputNew))"
   ]
  },
  {
   "cell_type": "code",
   "execution_count": null,
   "id": "95d5f448-307f-4166-ad2e-32e34c5d86a0",
   "metadata": {},
   "outputs": [],
   "source": []
  },
  {
   "cell_type": "markdown",
   "id": "50fe6aac-f9b2-4b2b-9f49-8d6513e57768",
   "metadata": {},
   "source": [
    "## (28) partition"
   ]
  },
  {
   "cell_type": "code",
   "execution_count": 36,
   "id": "d41553ef-0879-4828-b772-42efcdfed5ea",
   "metadata": {},
   "outputs": [
    {
     "name": "stdout",
     "output_type": "stream",
     "text": [
      "('Separate this sentence ', 'from here', ' and provide an output.')\n"
     ]
    }
   ],
   "source": [
    "val1 = \"Separate this sentence from here and provide an output.\"\n",
    "\n",
    "val2 = val1.partition(\"from here\")\n",
    "\n",
    "print(val2)"
   ]
  },
  {
   "cell_type": "code",
   "execution_count": null,
   "id": "86c08764-353d-4e09-9b49-9a72f4c05427",
   "metadata": {},
   "outputs": [],
   "source": []
  },
  {
   "cell_type": "markdown",
   "id": "aa02ebf2-9c91-4875-bccf-b8e55fbad38c",
   "metadata": {},
   "source": [
    "## (29) rfind"
   ]
  },
  {
   "cell_type": "code",
   "execution_count": 39,
   "id": "d40c6365-9885-4d7b-80f7-01f58368a45e",
   "metadata": {},
   "outputs": [
    {
     "name": "stdout",
     "output_type": "stream",
     "text": [
      "7\n"
     ]
    }
   ],
   "source": [
    "JuliusCaeser = \"Et tu, Brute!\"\n",
    "\n",
    "Conspirator = JuliusCaeser.rfind(\"Brute\")\n",
    "\n",
    "print(Conspirator)"
   ]
  },
  {
   "cell_type": "code",
   "execution_count": 40,
   "id": "93596908-e4ec-46fe-92c8-92a4e08f9c5c",
   "metadata": {},
   "outputs": [
    {
     "name": "stdout",
     "output_type": "stream",
     "text": [
      "-1\n"
     ]
    }
   ],
   "source": [
    "JuliusCaeser = \"Et tu, Brute!\"\n",
    "\n",
    "Conspirator = JuliusCaeser.rfind(\"Donald\")\n",
    "\n",
    "print(Conspirator)"
   ]
  },
  {
   "cell_type": "markdown",
   "id": "e1f90939-6ae0-4a57-ac30-feae4b5cd9e7",
   "metadata": {},
   "source": [
    "## (30) rindex"
   ]
  },
  {
   "cell_type": "code",
   "execution_count": 42,
   "id": "a28d5a37-2dd0-435e-959e-e8cda36b567f",
   "metadata": {},
   "outputs": [
    {
     "name": "stdout",
     "output_type": "stream",
     "text": [
      "18\n"
     ]
    }
   ],
   "source": [
    "sen1 = \"rindex() is quite similar to rfind()!\"\n",
    "\n",
    "sen2 = sen1.rindex(\"similar\")\n",
    "\n",
    "print(sen2)"
   ]
  },
  {
   "cell_type": "code",
   "execution_count": null,
   "id": "1cc627dc-3936-4589-987b-105683a84b28",
   "metadata": {},
   "outputs": [],
   "source": []
  },
  {
   "cell_type": "markdown",
   "id": "3127822e-4902-4c24-b2ee-889e74937955",
   "metadata": {},
   "source": [
    "## (31) rjust"
   ]
  },
  {
   "cell_type": "code",
   "execution_count": 52,
   "id": "0b729f8e-6f60-4256-ac8a-678139b623d5",
   "metadata": {},
   "outputs": [
    {
     "name": "stdout",
     "output_type": "stream",
     "text": [
      "                         Shift this sentence after 30 spaces to the right.\n"
     ]
    }
   ],
   "source": [
    "L1 = \"Shift\"\n",
    "\n",
    "L2 = L1.rjust(30)\n",
    "\n",
    "print(L2, \"this sentence after 30 spaces to the right.\")"
   ]
  },
  {
   "cell_type": "code",
   "execution_count": null,
   "id": "b3328cac-3e1a-487b-bba9-9560035c6e61",
   "metadata": {},
   "outputs": [],
   "source": []
  },
  {
   "cell_type": "markdown",
   "id": "66c7efb5-b515-47ec-9ca5-73239047c78b",
   "metadata": {},
   "source": [
    "## (32) rpartition"
   ]
  },
  {
   "cell_type": "code",
   "execution_count": 54,
   "id": "a8b97926-0f53-45e8-a0ae-f1f156783d17",
   "metadata": {},
   "outputs": [
    {
     "name": "stdout",
     "output_type": "stream",
     "text": [
      "('Pyth', 'o', 'n Programming')\n",
      "('Python Pr', 'o', 'gramming')\n"
     ]
    }
   ],
   "source": [
    "mystr = 'Python Programming'\n",
    "\n",
    "#Difference between partition and rpartition is just based on occurence of the separator.\n",
    "\n",
    "print(mystr.partition('o'))\n",
    "\n",
    "print(mystr.rpartition('o'))"
   ]
  },
  {
   "cell_type": "code",
   "execution_count": null,
   "id": "d231b50f-4d07-45e3-b96c-736258015e78",
   "metadata": {},
   "outputs": [],
   "source": []
  },
  {
   "cell_type": "markdown",
   "id": "cac796c7-1ea4-4d0b-b4a1-d2c2c1ac5a80",
   "metadata": {},
   "source": [
    "## (33) rsplit"
   ]
  },
  {
   "cell_type": "code",
   "execution_count": 74,
   "id": "5e3aac18-1219-43f0-914b-8de3f94ecfa8",
   "metadata": {},
   "outputs": [
    {
     "name": "stdout",
     "output_type": "stream",
     "text": [
      "['John /Jani/ ', '  Janardhan']\n"
     ]
    }
   ],
   "source": [
    "split1 = \"John /Jani/ *  Janardhan\"\n",
    "\n",
    "# setting the maxsplit parameter to 1, will return a list with 2 elements!\n",
    "split2 = split1.rsplit(\"*\", 1)\n",
    "\n",
    "print(split2)"
   ]
  },
  {
   "cell_type": "code",
   "execution_count": null,
   "id": "1305b8c6-9349-4105-ac45-2ce17336368e",
   "metadata": {},
   "outputs": [],
   "source": []
  },
  {
   "cell_type": "markdown",
   "id": "e24606d6-c98d-41b2-ba90-b508f4ac8660",
   "metadata": {},
   "source": [
    "## (34) rstrip"
   ]
  },
  {
   "cell_type": "code",
   "execution_count": 81,
   "id": "140a4900-76a6-4074-8b37-5ca76bca2c8e",
   "metadata": {},
   "outputs": [
    {
     "name": "stdout",
     "output_type": "stream",
     "text": [
      ",,,Hiroshima\n"
     ]
    }
   ],
   "source": [
    "Val1 = \",,,Hiroshima.,,,,,xyz///.\"\n",
    "\n",
    "Val2 = Val1.rstrip(\",./xyz\")\n",
    "\n",
    "print(Val2)"
   ]
  },
  {
   "cell_type": "code",
   "execution_count": null,
   "id": "6ff6d27d-3cd9-4cd7-9c09-72ecfd02671a",
   "metadata": {},
   "outputs": [],
   "source": []
  },
  {
   "cell_type": "markdown",
   "id": "8ca95b84-737a-4b7b-886a-2f8e757f0932",
   "metadata": {},
   "source": [
    "## (35) split"
   ]
  },
  {
   "cell_type": "code",
   "execution_count": 84,
   "id": "3aa957a6-af1e-400a-9687-645913b4c585",
   "metadata": {},
   "outputs": [
    {
     "name": "stdout",
     "output_type": "stream",
     "text": [
      "['The', 'split()', 'method', 'splits', 'a', 'string', 'into', 'a', 'list.']\n"
     ]
    }
   ],
   "source": [
    "split5 = \"The split() method splits a string into a list.\"\n",
    "\n",
    "Split6 = split5.split()\n",
    "\n",
    "print(Split6)\n"
   ]
  },
  {
   "cell_type": "code",
   "execution_count": null,
   "id": "6aeed239-dd85-41aa-b34c-34949c6870aa",
   "metadata": {},
   "outputs": [],
   "source": []
  },
  {
   "cell_type": "markdown",
   "id": "1cea19f5-6f81-43f9-a801-672b2ccca476",
   "metadata": {},
   "source": [
    "## (37) splitlines"
   ]
  },
  {
   "cell_type": "code",
   "execution_count": 85,
   "id": "6765a440-903b-451d-a9e9-af1c456b290c",
   "metadata": {},
   "outputs": [
    {
     "name": "stdout",
     "output_type": "stream",
     "text": [
      "['Sentence1 ends here', 'Sentence2 starts here.']\n"
     ]
    }
   ],
   "source": [
    "V1 = \"Sentence1 ends here\\nSentence2 starts here.\"\n",
    "\n",
    "V2 = V1.splitlines()\n",
    "\n",
    "print(V2)\n"
   ]
  },
  {
   "cell_type": "code",
   "execution_count": null,
   "id": "41c68b7b-a9ad-42c4-ae93-b920ca72e651",
   "metadata": {},
   "outputs": [],
   "source": []
  },
  {
   "cell_type": "markdown",
   "id": "cbf8d8eb-4c6f-4b8c-a76f-b9a1fd92ff41",
   "metadata": {},
   "source": [
    "## (38) startswith"
   ]
  },
  {
   "cell_type": "code",
   "execution_count": 90,
   "id": "9ebe2fa2-7ba4-44ea-bd9d-578da1273717",
   "metadata": {},
   "outputs": [
    {
     "name": "stdout",
     "output_type": "stream",
     "text": [
      "True\n"
     ]
    }
   ],
   "source": [
    "V3 = \"Whether the sentence starts with Whether\"\n",
    "\n",
    "V4 = V3.startswith(\"Whether\")\n",
    "\n",
    "print(V4)"
   ]
  },
  {
   "cell_type": "code",
   "execution_count": null,
   "id": "f2801652-607d-482b-be11-cf240b3395df",
   "metadata": {},
   "outputs": [],
   "source": []
  },
  {
   "cell_type": "code",
   "execution_count": 91,
   "id": "392b10ca-8686-457f-9f58-45b141ddcef1",
   "metadata": {},
   "outputs": [
    {
     "name": "stdout",
     "output_type": "stream",
     "text": [
      "False\n"
     ]
    }
   ],
   "source": [
    "V5 = \"Whether the sentence starts with starts\"\n",
    "\n",
    "V6 = V5.startswith(\"starts\")\n",
    "\n",
    "print(V6)"
   ]
  },
  {
   "cell_type": "code",
   "execution_count": null,
   "id": "ce540f0d-c0ae-4cde-9143-b366ee68bce7",
   "metadata": {},
   "outputs": [],
   "source": []
  },
  {
   "cell_type": "markdown",
   "id": "df0d05bc-1889-4d91-ba74-d88ea074e44e",
   "metadata": {},
   "source": [
    "## (39) strip"
   ]
  },
  {
   "cell_type": "code",
   "execution_count": 97,
   "id": "3188f7c2-2667-4f91-b35b-39f1017b5715",
   "metadata": {},
   "outputs": [
    {
     "name": "stdout",
     "output_type": "stream",
     "text": [
      "qwerty\n"
     ]
    }
   ],
   "source": [
    "E7 = \"Q...Y..//qwerty..E..RR___T....W\"\n",
    "\n",
    "C7 = E7.strip(\",/._QWERTY\")\n",
    "\n",
    "print(C7)\n"
   ]
  },
  {
   "cell_type": "code",
   "execution_count": null,
   "id": "8b9b554f-dcbc-4af2-92d5-4038d331dd66",
   "metadata": {},
   "outputs": [],
   "source": []
  },
  {
   "cell_type": "markdown",
   "id": "055729cd-91c4-4587-8ae5-1bc062baf121",
   "metadata": {},
   "source": [
    "##  (40) swapcase"
   ]
  },
  {
   "cell_type": "code",
   "execution_count": 99,
   "id": "ffcc7a8a-572b-4387-8cbb-8e1172115193",
   "metadata": {},
   "outputs": [
    {
     "name": "stdout",
     "output_type": "stream",
     "text": [
      "lET'S SWAP aLl The casES In ThiS sentence.\n"
     ]
    }
   ],
   "source": [
    "swap1 = \"Let's swap AlL tHE CASes iN tHIs SENTENCE.\"\n",
    "\n",
    "swap2 = swap1.swapcase()\n",
    "\n",
    "print(swap2)\n"
   ]
  },
  {
   "cell_type": "code",
   "execution_count": null,
   "id": "f8e1f9e4-a884-4ad6-970f-887e94f3c611",
   "metadata": {},
   "outputs": [],
   "source": []
  },
  {
   "cell_type": "markdown",
   "id": "efa4eef5-187c-49bc-9023-f0636ad8457f",
   "metadata": {},
   "source": [
    "## (41) title"
   ]
  },
  {
   "cell_type": "code",
   "execution_count": 101,
   "id": "7ddb9a59-d756-49e7-8974-0ba14f488eaa",
   "metadata": {},
   "outputs": [
    {
     "name": "stdout",
     "output_type": "stream",
     "text": [
      "Make The First Letter In Each Word Uppercase\n"
     ]
    }
   ],
   "source": [
    "txt = \"make the first letter in each word uppercase\"\n",
    "\n",
    "x = txt.title()\n",
    "\n",
    "print(x)"
   ]
  },
  {
   "cell_type": "code",
   "execution_count": null,
   "id": "9491ccea-625f-4e96-8d1a-f0e73a6bbcd9",
   "metadata": {},
   "outputs": [],
   "source": []
  },
  {
   "cell_type": "markdown",
   "id": "368de9f4-3d86-4aaf-b712-737fa2747968",
   "metadata": {},
   "source": [
    "## (42) upper"
   ]
  },
  {
   "cell_type": "code",
   "execution_count": 104,
   "id": "edf17360-ce11-47a1-a3cc-149b3f41ae44",
   "metadata": {},
   "outputs": [
    {
     "name": "stdout",
     "output_type": "stream",
     "text": [
      "MAKE EVERY LETTER IN EACH WORD UPPERCASE.\n"
     ]
    }
   ],
   "source": [
    "txt = \"make EvErY LettEr iN each WORD uppercase.\"\n",
    "\n",
    "x = txt.upper()\n",
    "\n",
    "print(x)"
   ]
  },
  {
   "cell_type": "code",
   "execution_count": null,
   "id": "3f2e4478-bc40-4858-88e3-ec8063b9f570",
   "metadata": {},
   "outputs": [],
   "source": []
  },
  {
   "cell_type": "markdown",
   "id": "a857ede4-0e8a-4d34-86bb-a742a1cfd4d7",
   "metadata": {},
   "source": [
    "## (43) zfill"
   ]
  },
  {
   "cell_type": "code",
   "execution_count": 112,
   "id": "e7e393b0-761d-45da-abcd-a07320be5cfc",
   "metadata": {},
   "outputs": [
    {
     "name": "stdout",
     "output_type": "stream",
     "text": [
      "00000000000000000000000000000000050\n"
     ]
    }
   ],
   "source": [
    "end1 = \"50\"\n",
    "\n",
    "end2 = end1.zfill(35)\n",
    "\n",
    "print(end2)"
   ]
  },
  {
   "cell_type": "code",
   "execution_count": null,
   "id": "d005e36d-0b39-49d3-9c22-4889c10f823b",
   "metadata": {},
   "outputs": [],
   "source": []
  }
 ],
 "metadata": {
  "kernelspec": {
   "display_name": "Python 3 (ipykernel)",
   "language": "python",
   "name": "python3"
  },
  "language_info": {
   "codemirror_mode": {
    "name": "ipython",
    "version": 3
   },
   "file_extension": ".py",
   "mimetype": "text/x-python",
   "name": "python",
   "nbconvert_exporter": "python",
   "pygments_lexer": "ipython3",
   "version": "3.11.7"
  }
 },
 "nbformat": 4,
 "nbformat_minor": 5
}
